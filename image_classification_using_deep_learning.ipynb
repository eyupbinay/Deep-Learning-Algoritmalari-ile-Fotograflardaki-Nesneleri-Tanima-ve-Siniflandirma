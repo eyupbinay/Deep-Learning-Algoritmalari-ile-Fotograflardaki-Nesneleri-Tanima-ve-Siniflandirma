{
 "cells": [
  {
   "cell_type": "code",
   "execution_count": null,
   "id": "bf4a0b66",
   "metadata": {},
   "outputs": [],
   "source": [
    "import tensorflow as tf\n",
    "from tensorflow.keras import datasets, layers, models\n",
    "import pandas as pd\n",
    "import numpy as np\n",
    "import matplotlib.pyplot as plt\n"
   ]
  },
  {
   "cell_type": "code",
   "execution_count": null,
   "id": "7c7e954a",
   "metadata": {},
   "outputs": [],
   "source": [
    "(X_train, y_train), (X_test,y_test) = datasets.cifar10.load_data()\n"
   ]
  },
  {
   "cell_type": "code",
   "execution_count": null,
   "id": "46e28c2f",
   "metadata": {},
   "outputs": [],
   "source": [
    "X_train.shape"
   ]
  },
  {
   "cell_type": "code",
   "execution_count": null,
   "id": "ce8f44c1",
   "metadata": {},
   "outputs": [],
   "source": [
    "X_test.shape"
   ]
  },
  {
   "cell_type": "code",
   "execution_count": null,
   "id": "422376c2",
   "metadata": {},
   "outputs": [],
   "source": [
    "y_train[:3]"
   ]
  },
  {
   "cell_type": "code",
   "execution_count": null,
   "id": "a26829fa",
   "metadata": {},
   "outputs": [],
   "source": [
    "y_test = y_test.reshape(-1,)"
   ]
  },
  {
   "cell_type": "code",
   "execution_count": null,
   "id": "922962d4",
   "metadata": {},
   "outputs": [],
   "source": [
    "y_test "
   ]
  },
  {
   "cell_type": "code",
   "execution_count": null,
   "id": "3b5c6bb2",
   "metadata": {},
   "outputs": [],
   "source": [
    "resim_siniflari = [\"airplane\",\"automobile\",\"bird\",\"cat\",\"deer\",\"dog\",\"frog\",\"horse\",\"ship\",\"truck\"]"
   ]
  },
  {
   "cell_type": "code",
   "execution_count": null,
   "id": "1a8a38fc",
   "metadata": {},
   "outputs": [],
   "source": [
    "def plot_sample(X, y, index):\n",
    "    plt.figure(figsize = (15,2))\n",
    "    plt.imshow(X[index])        \n",
    "    plt.xlabel(resim_siniflari[y[index]])\n",
    "    plt.show()\n"
   ]
  },
  {
   "cell_type": "code",
   "execution_count": null,
   "id": "a065b909",
   "metadata": {},
   "outputs": [],
   "source": [
    "plot_sample(X_test, y_test, 0)"
   ]
  },
  {
   "cell_type": "code",
   "execution_count": null,
   "id": "8dee36fa",
   "metadata": {},
   "outputs": [],
   "source": [
    "plot_sample(X_test, y_test, 1)"
   ]
  },
  {
   "cell_type": "code",
   "execution_count": null,
   "id": "5242f30a",
   "metadata": {},
   "outputs": [],
   "source": [
    "plot_sample(X_test, y_test, 3)"
   ]
  },
  {
   "cell_type": "code",
   "execution_count": null,
   "id": "f03a46da",
   "metadata": {},
   "outputs": [],
   "source": [
    "X_train = X_train / 255\n",
    "X_test = X_test / 255"
   ]
  },
  {
   "cell_type": "code",
   "execution_count": null,
   "id": "7ad227c3",
   "metadata": {},
   "outputs": [],
   "source": [
    "deep_learning_model = models.Sequential([\n",
    "    layers.Conv2D(filters=32, kernel_size=(3, 3), activation='relu', input_shape=(32, 32, 3)),\n",
    "    layers.MaxPooling2D((2, 2)),\n",
    "    \n",
    "    layers.Conv2D(filters=64, kernel_size=(3, 3), activation='relu'),\n",
    "    layers.MaxPooling2D((2, 2)),\n",
    "    \n",
    "    layers.Flatten(),\n",
    "    layers.Dense(64, activation='relu'),\n",
    "    layers.Dense(10, activation='softmax')\n",
    "])"
   ]
  },
  {
   "cell_type": "code",
   "execution_count": null,
   "id": "ea797643",
   "metadata": {},
   "outputs": [],
   "source": [
    "deep_learning_model.compile(optimizer='adam',\n",
    "              loss='sparse_categorical_crossentropy',\n",
    "              metrics=['accuracy'])"
   ]
  },
  {
   "cell_type": "code",
   "execution_count": null,
   "id": "758a9635",
   "metadata": {},
   "outputs": [],
   "source": [
    "deep_learning_model.fit(X_train, y_train, epochs=5)"
   ]
  },
  {
   "cell_type": "code",
   "execution_count": null,
   "id": "16b3d698",
   "metadata": {},
   "outputs": [],
   "source": [
    "deep_learning_model.evaluate(X_test,y_test)"
   ]
  },
  {
   "cell_type": "code",
   "execution_count": null,
   "id": "daa7b9e1",
   "metadata": {},
   "outputs": [],
   "source": [
    "y_pred = deep_learning_model.predict(X_test)\n",
    "y_pred[:3]"
   ]
  },
  {
   "cell_type": "code",
   "execution_count": null,
   "id": "2e3fa72f",
   "metadata": {},
   "outputs": [],
   "source": [
    "y_predictions_siniflari = [np.argmax(element) for element in y_pred]\n",
    "y_predictions_siniflari[:3]"
   ]
  },
  {
   "cell_type": "code",
   "execution_count": null,
   "id": "86a95599",
   "metadata": {},
   "outputs": [],
   "source": [
    "y_test[:3]"
   ]
  },
  {
   "cell_type": "code",
   "execution_count": null,
   "id": "e6da0a7b",
   "metadata": {},
   "outputs": [],
   "source": [
    "plot_sample(X_test, y_test,0)"
   ]
  },
  {
   "cell_type": "code",
   "execution_count": null,
   "id": "ce1c9d65",
   "metadata": {},
   "outputs": [],
   "source": [
    "resim_siniflari[y_predictions_siniflari[0]]"
   ]
  },
  {
   "cell_type": "code",
   "execution_count": null,
   "id": "671acd2a",
   "metadata": {},
   "outputs": [],
   "source": [
    "plot_sample(X_test, y_test,1)"
   ]
  },
  {
   "cell_type": "code",
   "execution_count": null,
   "id": "ccb8fffa",
   "metadata": {},
   "outputs": [],
   "source": [
    "resim_siniflari[y_predictions_siniflari[1]]"
   ]
  },
  {
   "cell_type": "code",
   "execution_count": null,
   "id": "65effc16",
   "metadata": {},
   "outputs": [],
   "source": [
    "plot_sample(X_test, y_test,2)"
   ]
  },
  {
   "cell_type": "code",
   "execution_count": null,
   "id": "1368787b",
   "metadata": {},
   "outputs": [],
   "source": [
    "resim_siniflari[y_predictions_siniflari[2]]"
   ]
  }
 ],
 "metadata": {
  "kernelspec": {
   "display_name": "Python 3 (ipykernel)",
   "language": "python",
   "name": "python3"
  },
  "language_info": {
   "codemirror_mode": {
    "name": "ipython",
    "version": 3
   },
   "file_extension": ".py",
   "mimetype": "text/x-python",
   "name": "python",
   "nbconvert_exporter": "python",
   "pygments_lexer": "ipython3",
   "version": "3.7.13"
  }
 },
 "nbformat": 4,
 "nbformat_minor": 5
}
